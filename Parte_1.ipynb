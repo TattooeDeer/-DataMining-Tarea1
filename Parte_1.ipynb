{
 "cells": [
  {
   "cell_type": "markdown",
   "metadata": {},
   "source": [
    "# Tarea 1: Reconocimiento de Patrones en Minería de Datos\n",
    "\n",
    "\n",
    "## Parte I: Análisis de rendimiento de distintos algoritmos de clustering\n",
    "\n",
    "Ideas interesantes:\n",
    "* Graficar siempre los clusters (colores) obtenidos.\n",
    "* Utilizar un contraste de hipótesis para deteminar la mejor combinación de hiperparámetros.\n",
    "* 8\n"
   ]
  },
  {
   "cell_type": "code",
   "execution_count": 11,
   "metadata": {},
   "outputs": [],
   "source": [
    "import csv\n",
    "import numpy\n",
    "import pandas as pd\n",
    "import matplotlib.pyplot as plt\n",
    "import sklearn.cluster as skc\n",
    "from sklearn.cluster import AgglomerativeClustering\n",
    "from sklearn.metrics import silhouette_score\n",
    "from sklearn.datasets import make_blobs\n",
    "from ipywidgets import interact, interactive, fixed, interact_manual\n",
    "import ipywidgets as widgets\n",
    "import numpy as np\n",
    "import skfuzzy.cluster as fuzzy\n",
    "\n",
    "data=pd.read_csv(\"smile.txt\", sep='\\t', header=None)\n"
   ]
  },
  {
   "cell_type": "code",
   "execution_count": 3,
   "metadata": {},
   "outputs": [
    {
     "data": {
      "image/png": "[encoded data removed]",
      "text/plain": [
       "<Figure size 432x288 with 1 Axes>"
      ]
     },
     "metadata": {},
     "output_type": "display_data"
    }
   ],
   "source": [
    "data.plot(kind='scatter',x=0,y=1)\n",
    "plt.show()"
   ]
  },
  {
   "cell_type": "code",
   "execution_count": 4,
   "metadata": {},
   "outputs": [
    {
     "data": {
      "application/vnd.jupyter.widget-view+json": {
       "model_id": "426f2b2d118c4634ba12e8a43dc612df",
       "version_major": 2,
       "version_minor": 0
      },
      "text/html": [
       "<p>Failed to display Jupyter Widget of type <code>interactive</code>.</p>\n",
       "<p>\n",
       "  If you're reading this message in the Jupyter Notebook or JupyterLab Notebook, it may mean\n",
       "  that the widgets JavaScript is still loading. If this message persists, it\n",
       "  likely means that the widgets JavaScript library is either not installed or\n",
       "  not enabled. See the <a href=\"https://ipywidgets.readthedocs.io/en/stable/user_install.html\">Jupyter\n",
       "  Widgets Documentation</a> for setup instructions.\n",
       "</p>\n",
       "<p>\n",
       "  If you're reading this message in another frontend (for example, a static\n",
       "  rendering on GitHub or <a href=\"https://nbviewer.jupyter.org/\">NBViewer</a>),\n",
       "  it may mean that your frontend doesn't currently support widgets.\n",
       "</p>\n"
      ],
      "text/plain": [
       "interactive(children=(IntSlider(value=4, description='k', max=30, min=2), Output()), _dom_classes=('widget-interact',))"
      ]
     },
     "metadata": {},
     "output_type": "display_data"
    },
    {
     "data": {
      "text/plain": [
       "<function __main__.k_means>"
      ]
     },
     "execution_count": 4,
     "metadata": {},
     "output_type": "execute_result"
    }
   ],
   "source": [
    "def k_means(k=4):\n",
    "    kmeans = skc.KMeans(n_clusters=k, random_state=0).fit(data)\n",
    "    centroids=kmeans.cluster_centers_\n",
    "    clusters=kmeans.predict(data)\n",
    "    score=silhouette_score(data, clusters)\n",
    "    print('silhoute score:',score)\n",
    "    plt.plot(centroids[:,0], centroids[:,1], 'o', markersize=10, markerfacecolor='w', markeredgewidth=1.5, markeredgecolor=(0, 0, 0, 1))\n",
    "    plt.scatter(data[0], data[1], c=clusters)\n",
    "interact(k_means, k=(2,30,1))"
   ]
  },
  {
   "cell_type": "code",
   "execution_count": 5,
   "metadata": {},
   "outputs": [
    {
     "data": {
      "application/vnd.jupyter.widget-view+json": {
       "model_id": "61a20615775d407aafd86f6278e48dff",
       "version_major": 2,
       "version_minor": 0
      },
      "text/html": [
       "<p>Failed to display Jupyter Widget of type <code>interactive</code>.</p>\n",
       "<p>\n",
       "  If you're reading this message in the Jupyter Notebook or JupyterLab Notebook, it may mean\n",
       "  that the widgets JavaScript is still loading. If this message persists, it\n",
       "  likely means that the widgets JavaScript library is either not installed or\n",
       "  not enabled. See the <a href=\"https://ipywidgets.readthedocs.io/en/stable/user_install.html\">Jupyter\n",
       "  Widgets Documentation</a> for setup instructions.\n",
       "</p>\n",
       "<p>\n",
       "  If you're reading this message in another frontend (for example, a static\n",
       "  rendering on GitHub or <a href=\"https://nbviewer.jupyter.org/\">NBViewer</a>),\n",
       "  it may mean that your frontend doesn't currently support widgets.\n",
       "</p>\n"
      ],
      "text/plain": [
       "interactive(children=(IntSlider(value=4, description='k', max=15, min=2), Output()), _dom_classes=('widget-interact',))"
      ]
     },
     "metadata": {},
     "output_type": "display_data"
    },
    {
     "data": {
      "text/plain": [
       "<function __main__.AHC_complete>"
      ]
     },
     "execution_count": 5,
     "metadata": {},
     "output_type": "execute_result"
    }
   ],
   "source": [
    "def AHC_complete(k=4):\n",
    "    AHC = skc.AgglomerativeClustering(n_clusters=k, affinity='euclidean', linkage='complete')  \n",
    "    clusters=AHC.fit_predict(data)\n",
    "    score=silhouette_score(data, clusters)\n",
    "    print('silhoute score:',score)\n",
    "    plt.scatter(data[0],data[1], c=AHC.labels_, cmap='rainbow')\n",
    "interact(AHC_complete, k=(2,15,1))"
   ]
  },
  {
   "cell_type": "code",
   "execution_count": 12,
   "metadata": {},
   "outputs": [
    {
     "data": {
      "application/vnd.jupyter.widget-view+json": {
       "model_id": "d5b078e05c8f4641857b8cc47e4a6f2e",
       "version_major": 2,
       "version_minor": 0
      },
      "text/html": [
       "<p>Failed to display Jupyter Widget of type <code>interactive</code>.</p>\n",
       "<p>\n",
       "  If you're reading this message in the Jupyter Notebook or JupyterLab Notebook, it may mean\n",
       "  that the widgets JavaScript is still loading. If this message persists, it\n",
       "  likely means that the widgets JavaScript library is either not installed or\n",
       "  not enabled. See the <a href=\"https://ipywidgets.readthedocs.io/en/stable/user_install.html\">Jupyter\n",
       "  Widgets Documentation</a> for setup instructions.\n",
       "</p>\n",
       "<p>\n",
       "  If you're reading this message in another frontend (for example, a static\n",
       "  rendering on GitHub or <a href=\"https://nbviewer.jupyter.org/\">NBViewer</a>),\n",
       "  it may mean that your frontend doesn't currently support widgets.\n",
       "</p>\n"
      ],
      "text/plain": [
       "interactive(children=(IntSlider(value=4, description='k', max=12, min=-4), Output()), _dom_classes=('widget-interact',))"
      ]
     },
     "metadata": {},
     "output_type": "display_data"
    },
    {
     "data": {
      "text/plain": [
       "<function __main__.AHC_single>"
      ]
     },
     "execution_count": 12,
     "metadata": {},
     "output_type": "execute_result"
    }
   ],
   "source": [
    "def AHC_single(k):\n",
    "    AHC = AgglomerativeClustering(n_clusters=k, linkage='single')  \n",
    "    clusters=AHC.fit_predict(data)\n",
    "    score=silhouette_score(data, clusters)\n",
    "    print('silhoute score:',score)\n",
    "    plt.scatter(data[0],data[1], c=AHC.labels_, cmap='rainbow')\n",
    "interact(AHC_single, k=4)"
   ]
  },
  {
   "cell_type": "code",
   "execution_count": null,
   "metadata": {},
   "outputs": [],
   "source": [
    "def DBSCAN(eps=0.1, min_points=100):\n",
    "    dbscan = skc.DBSCAN(eps=eps, min_samples = min_points)\n",
    "    clusters = dbscan.fit_predict(data)\n",
    "    score=silhouette_score(data, clusters)\n",
    "    print('silhoute score:',score)\n",
    "\n",
    "    # plot the cluster assignments\n",
    "    plt.scatter(data[0],data[1], c=clusters, cmap=\"plasma\")\n",
    "interact(DBSCAN, min_points=(5,200,1), eps=(0.01,0.29,0.01))"
   ]
  },
  {
   "cell_type": "code",
   "execution_count": null,
   "metadata": {},
   "outputs": [],
   "source": [
    "def MS(bandwidth):\n",
    "    ms = skc.MeanShift(bandwidth=bandwidth)\n",
    "    ms.fit(data)\n",
    "    labels = ms.labels_\n",
    "    cluster_centers = ms.cluster_centers_\n",
    "\n",
    "    labels_unique = np.unique(labels)\n",
    "    n_clusters_ = len(labels_unique)\n",
    "    score=silhouette_score(data, ms.labels_)\n",
    "    print('silhoute score:',score)\n",
    "\n",
    "    print(\"number of estimated clusters : %d\" % n_clusters_)\n",
    "\n",
    "    # #############################################################################\n",
    "    # Plot result\n",
    "    plt.scatter(data[0],data[1], c=ms.labels_)\n",
    "interact(MS,bandwidth=0.1 )"
   ]
  },
  {
   "cell_type": "code",
   "execution_count": null,
   "metadata": {},
   "outputs": [],
   "source": [
    "def SC(n=4,affinity='rbf',gamma=100, n_neighbors=5):\n",
    "    spectralClustering = skc.SpectralClustering(n_clusters=n,eigen_solver='arpack',assign_labels=\"kmeans\",random_state=0, affinity=affinity, gamma=gamma, n_neighbors=5).fit(data)\n",
    "    score=silhouette_score(data, spectralClustering.labels_)\n",
    "    print('silhoute score:',score)\n",
    "    plt.scatter(data[0],data[1], c=spectralClustering.labels_, cmap=\"plasma\")\n",
    "interact(SC,n =(2,15,1),affinity =['rbf', 'nearest_neighbors'],gamma=100, n_neighbors=(5,100,1) )"
   ]
  },
  {
   "cell_type": "code",
   "execution_count": null,
   "metadata": {},
   "outputs": [],
   "source": [
    "def Fuzzy(k=4):\n",
    "    \n",
    "    data2=data.T\n",
    "    cntr, u, u0, d, jm, p, fpc=fuzzy.cmeans(data2,k,5, error=0.005, maxiter=1000, init=None)\n",
    "    cluster_membership = np.argmax(u, axis=0)\n",
    "    score=silhouette_score(data, cluster_membership)\n",
    "    print('silhoute score:',score)\n",
    "    plt.scatter(data[0],data[1], c=cluster_membership, cmap=\"plasma\")\n",
    "interact(Fuzzy, k=(2,15,1))"
   ]
  },
  {
   "cell_type": "code",
   "execution_count": null,
   "metadata": {},
   "outputs": [],
   "source": []
  },
  {
   "cell_type": "code",
   "execution_count": null,
   "metadata": {},
   "outputs": [],
   "source": []
  },
  {
   "cell_type": "code",
   "execution_count": null,
   "metadata": {},
   "outputs": [],
   "source": []
  }
 ],
 "metadata": {
  "kernelspec": {
   "display_name": "Python 3",
   "language": "python",
   "name": "python3"
  },
  "language_info": {
   "codemirror_mode": {
    "name": "ipython",
    "version": 3
   },
   "file_extension": ".py",
   "mimetype": "text/x-python",
   "name": "python",
   "nbconvert_exporter": "python",
   "pygments_lexer": "ipython3",
   "version": "3.6.4"
  }
 },
 "nbformat": 4,
 "nbformat_minor": 2
}
