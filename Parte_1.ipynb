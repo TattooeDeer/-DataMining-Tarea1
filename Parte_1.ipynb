{
 "cells": [
  {
   "cell_type": "markdown",
   "metadata": {},
   "source": [
    "# Tarea 1: Reconocimiento de Patrones en Minería de Datos\n",
    "\n",
    "\n",
    "## Parte I: Análisis de rendimiento de distintos algoritmos de clustering\n",
    "\n",
    "Ideas interesantes:\n",
    "* Graficar siempre los clusters (colores) obtenidos.\n",
    "* Utilizar un contraste de hipótesis para deteminar la mejor combinación de hiperparámetros.\n",
    "* 8\n",
    "\n"
   ]
  },
  {
   "cell_type": "code",
   "execution_count": 1,
   "metadata": {},
   "outputs": [],
   "source": [
    "import numpy as np\n",
    "import sklearn.cluster as cl\n",
    "import sklearn.metrics as mtr\n",
    "import seaborn as sns; sns.set() \n",
    "import matplotlib.pyplot as plt\n",
    "import skfuzzy.cluster as fuzzy\n",
    "\n",
    "from ipywidgets import interact, interactive, fixed, interact_manual\n",
    "import ipywidgets as widgets"
   ]
  },
  {
   "cell_type": "markdown",
   "metadata": {},
   "source": [
    "## Mouse Dataset\n",
    "\n",
    "En esta sección se trabaja el dataset del ratón, cargando en principio los datos y visualizando la figura"
   ]
  },
  {
   "cell_type": "code",
   "execution_count": 2,
   "metadata": {},
   "outputs": [
    {
     "data": {
      "text/plain": [
       "<matplotlib.collections.PathCollection at 0x1bb87394588>"
      ]
     },
     "execution_count": 2,
     "metadata": {},
     "output_type": "execute_result"
    },
    {
     "data": {
      "image/png": "[encoded data removed]",
      "text/plain": [
       "<Figure size 432x288 with 1 Axes>"
      ]
     },
     "metadata": {
      "needs_background": "light"
     },
     "output_type": "display_data"
    }
   ],
   "source": [
    "mouse_file = open('mouse.txt', 'r')\n",
    "mouse = []\n",
    "for line in mouse_file:\n",
    "    point = line.strip().split(\"\\t\")\n",
    "    mouse.append([float(point[0]), float(point[1])])\n",
    "\n",
    "mouse = np.array(mouse)\n",
    "plt.scatter(mouse[:,0], mouse[:,1])"
   ]
  },
  {
   "cell_type": "markdown",
   "metadata": {},
   "source": [
    "En primera instancia y a simple vista se puede intuir que la cantidad de clusters a encontrar debiesen ser tres. Además es considerable una notable existencia de outliers a lo que correspondería al contorno del ratón, por lo que se puede anticipar que un algoritmo que debiese dar clusters que recuerden a una figura tipo \"Mickey Mouse\" ha de ser uno que sea robusto a outliers y que segmente en base a la densidad de puntos. Se anticipa que DBSCAN y Spectral debiesen ser, en teoría, los que entreguen los mejores resultados.\n",
    "\n",
    "-------------------------------\n",
    "\n",
    "### KMeans\n",
    "\n",
    "Kmeans es sensible a outliers, por lo que, se anticipa que "
   ]
  },
  {
   "cell_type": "code",
   "execution_count": 3,
   "metadata": {},
   "outputs": [
    {
     "data": {
      "application/vnd.jupyter.widget-view+json": {
       "model_id": "c6ab55080dda407a9452ed504ce6ed92",
       "version_major": 2,
       "version_minor": 0
      },
      "text/plain": [
       "interactive(children=(IntSlider(value=5, continuous_update=False, description='iters', max=20, min=2), Output(…"
      ]
     },
     "metadata": {},
     "output_type": "display_data"
    },
    {
     "data": {
      "application/vnd.jupyter.widget-view+json": {
       "model_id": "02d4432352724e779ea1fbe06c697114",
       "version_major": 2,
       "version_minor": 0
      },
      "text/plain": [
       "interactive(children=(IntSlider(value=3, continuous_update=False, description='cluster', max=20, min=2), Outpu…"
      ]
     },
     "metadata": {},
     "output_type": "display_data"
    },
    {
     "data": {
      "text/plain": [
       "<function __main__.renderKmeans(cluster)>"
      ]
     },
     "execution_count": 3,
     "metadata": {},
     "output_type": "execute_result"
    }
   ],
   "source": [
    "def errorKMeansMetric(iters):\n",
    "    errors = []\n",
    "    for x in range(1,iters):\n",
    "        mouse_kMeans = cl.KMeans(n_clusters=x+1, random_state=0).fit(mouse)\n",
    "        y_mouse_kMeans = mouse_kMeans.predict(mouse)\n",
    "        errors.append(mtr.silhouette_score(mouse, y_mouse_kMeans))\n",
    "    plt.plot(np.arange(2,iters+1), errors)\n",
    "    \n",
    "interact(errorKMeansMetric, iters=widgets.IntSlider(min=2,max=20,step=1,value=5, continuous_update=False))\n",
    "\n",
    "\n",
    "def renderKmeans(cluster):\n",
    "    mouse_kMeans = cl.KMeans(n_clusters=cluster).fit(mouse)\n",
    "    y_mouse_kMeans = mouse_kMeans.predict(mouse)\n",
    "    mouse_kMeans_centers = mouse_kMeans.cluster_centers_\n",
    "\n",
    "    plt.scatter(mouse[:, 0], mouse[:, 1], c=y_mouse_kMeans, s=50, cmap='plasma')\n",
    "    plt.scatter(mouse_kMeans_centers[:, 0], mouse_kMeans_centers[:, 1], c='black', s=200, alpha=0.5);\n",
    "\n",
    "    mouse_kMeans_scorer = mtr.silhouette_score(mouse, y_mouse_kMeans)\n",
    "    print(mouse_kMeans_scorer)\n",
    "\n",
    "interact(renderKmeans, cluster=widgets.IntSlider(min=2,max=20,step=1,value=3, continuous_update=False))"
   ]
  },
  {
   "cell_type": "code",
   "execution_count": 4,
   "metadata": {},
   "outputs": [
    {
     "data": {
      "application/vnd.jupyter.widget-view+json": {
       "model_id": "5dac76cf09f846d6872df2091f63f769",
       "version_major": 2,
       "version_minor": 0
      },
      "text/plain": [
       "interactive(children=(IntSlider(value=5, continuous_update=False, description='iters', min=2), Output()), _dom…"
      ]
     },
     "metadata": {},
     "output_type": "display_data"
    },
    {
     "data": {
      "application/vnd.jupyter.widget-view+json": {
       "model_id": "4b0e92321f904ae5880407c1aedc4784",
       "version_major": 2,
       "version_minor": 0
      },
      "text/plain": [
       "interactive(children=(IntSlider(value=2, continuous_update=False, description='cluster', min=2), Output()), _d…"
      ]
     },
     "metadata": {},
     "output_type": "display_data"
    },
    {
     "data": {
      "text/plain": [
       "<function __main__.rederSingleAgglo(cluster)>"
      ]
     },
     "execution_count": 4,
     "metadata": {},
     "output_type": "execute_result"
    }
   ],
   "source": [
    "def errorSingleAggloMetric(iters):\n",
    "    errors = []\n",
    "    for x in range(1,iters):\n",
    "        mouse_sAgglo = cl.AgglomerativeClustering(n_clusters = x+1, linkage='single').fit_predict(mouse)\n",
    "        errors.append(mtr.silhouette_score(mouse, mouse_sAgglo))\n",
    "    plt.plot(np.arange(2,iters+1), errors)\n",
    "    \n",
    "interact(errorSingleAggloMetric, iters=widgets.IntSlider(min=2,max=100,step=1,value=5, continuous_update=False))\n",
    "\n",
    "def rederSingleAgglo(cluster):\n",
    "    mouse_sAgglo = cl.AgglomerativeClustering(n_clusters = cluster, linkage='single').fit_predict(mouse)\n",
    "\n",
    "    plt.scatter(mouse[:, 0], mouse[:, 1], c=mouse_sAgglo, s=50, cmap='plasma')\n",
    "\n",
    "    mouse_sAgglo_scorer = mtr.silhouette_score(mouse, mouse_sAgglo)\n",
    "    print(mouse_sAgglo_scorer)\n",
    "    \n",
    "interact(rederSingleAgglo, cluster=widgets.IntSlider(min=2,max=100,step=1,value=2, continuous_update=False))"
   ]
  },
  {
   "cell_type": "code",
   "execution_count": 5,
   "metadata": {},
   "outputs": [
    {
     "data": {
      "application/vnd.jupyter.widget-view+json": {
       "model_id": "b96f322ddaaa4779b939b01cc8869f09",
       "version_major": 2,
       "version_minor": 0
      },
      "text/plain": [
       "interactive(children=(IntSlider(value=5, continuous_update=False, description='iters', max=30, min=2), Output(…"
      ]
     },
     "metadata": {},
     "output_type": "display_data"
    },
    {
     "data": {
      "application/vnd.jupyter.widget-view+json": {
       "model_id": "5c6e707c90ea46eca5080cb56f4909c7",
       "version_major": 2,
       "version_minor": 0
      },
      "text/plain": [
       "interactive(children=(IntSlider(value=11, continuous_update=False, description='cluster', max=30, min=2), Outp…"
      ]
     },
     "metadata": {},
     "output_type": "display_data"
    },
    {
     "data": {
      "text/plain": [
       "<function __main__.rederCompleteAgglo(cluster)>"
      ]
     },
     "execution_count": 5,
     "metadata": {},
     "output_type": "execute_result"
    }
   ],
   "source": [
    "def errorCompleteAggloMetric(iters):\n",
    "    errors = []\n",
    "    for x in range(1,iters):\n",
    "        mouse_sAgglo = cl.AgglomerativeClustering(n_clusters = x+1, linkage='complete').fit_predict(mouse)\n",
    "        errors.append(mtr.silhouette_score(mouse, mouse_sAgglo))\n",
    "    plt.plot(np.arange(2,iters+1), errors)\n",
    "    \n",
    "interact(errorCompleteAggloMetric, iters=widgets.IntSlider(min=2,max=30,step=1,value=5, continuous_update=False))\n",
    "\n",
    "def rederCompleteAgglo(cluster):\n",
    "    mouse_cAgglo = cl.AgglomerativeClustering(n_clusters = cluster, linkage='complete').fit_predict(mouse)\n",
    "\n",
    "    plt.scatter(mouse[:, 0], mouse[:, 1], c=mouse_cAgglo, s=50, cmap='plasma')\n",
    "\n",
    "    mouse_cAgglo_scorer = mtr.silhouette_score(mouse, mouse_cAgglo)\n",
    "    print(mouse_cAgglo_scorer)\n",
    "    \n",
    "interact(rederCompleteAgglo, cluster=widgets.IntSlider(min=2,max=30,step=1,value=11, continuous_update=False))"
   ]
  },
  {
   "cell_type": "code",
   "execution_count": 30,
   "metadata": {},
   "outputs": [
    {
     "data": {
      "application/vnd.jupyter.widget-view+json": {
       "model_id": "70caf67746ae4864ac69bdf64b5fb2ed",
       "version_major": 2,
       "version_minor": 0
      },
      "text/plain": [
       "interactive(children=(FloatSlider(value=0.19, continuous_update=False, description='eps_val', max=0.2, min=0.0…"
      ]
     },
     "metadata": {},
     "output_type": "display_data"
    },
    {
     "data": {
      "application/vnd.jupyter.widget-view+json": {
       "model_id": "34ce7e3ed1044d1590e78ce393e67b6c",
       "version_major": 2,
       "version_minor": 0
      },
      "text/plain": [
       "interactive(children=(FloatSlider(value=0.118, continuous_update=False, description='eps_val', max=0.2, min=0.…"
      ]
     },
     "metadata": {},
     "output_type": "display_data"
    },
    {
     "data": {
      "text/plain": [
       "<function __main__.renderDBSCAN(eps_val, samples)>"
      ]
     },
     "execution_count": 30,
     "metadata": {},
     "output_type": "execute_result"
    }
   ],
   "source": [
    "def errorDBSCANMetric(eps_val, samples):\n",
    "    errors = []\n",
    "    for x in np.arange(0.04,eps_val+0.01, 0.01):\n",
    "        mouse_DBSCAN = cl.DBSCAN(eps=x, min_samples=samples).fit_predict(mouse)\n",
    "        errors.append(mtr.silhouette_score(mouse, mouse_DBSCAN))\n",
    "    plt.plot(errors)\n",
    "    \n",
    "interact(errorDBSCANMetric, eps_val=widgets.FloatSlider(min=0.01,max=0.2,step=0.02,value=0.19, continuous_update=False), samples = widgets.IntSlider(min=20,max=100,step=1,value=5, continuous_update=False))\n",
    "\n",
    "def renderDBSCAN(eps_val, samples):\n",
    "    mouse_DBSCAN = cl.DBSCAN(eps=eps_val, min_samples=samples).fit_predict(mouse)\n",
    "\n",
    "    plt.scatter(mouse[:, 0], mouse[:, 1], c=mouse_DBSCAN, s=50, cmap='plasma')\n",
    "\n",
    "    mouse_DBSCAN_scorer = mtr.silhouette_score(mouse, mouse_DBSCAN)\n",
    "    print(mouse_DBSCAN_scorer)\n",
    "    \n",
    "interact(renderDBSCAN, eps_val=widgets.FloatSlider(min=0.021,max=0.2,step=0.001,value=0.118, continuous_update=False), samples = widgets.IntSlider(min=20,max=100,step=1,value=65, continuous_update=False))"
   ]
  },
  {
   "cell_type": "code",
   "execution_count": 7,
   "metadata": {},
   "outputs": [
    {
     "name": "stdout",
     "output_type": "stream",
     "text": [
      "0.4596886911339167\n"
     ]
    },
    {
     "data": {
      "image/png": "[encoded data removed]",
      "text/plain": [
       "<Figure size 432x288 with 1 Axes>"
      ]
     },
     "metadata": {
      "needs_background": "light"
     },
     "output_type": "display_data"
    },
    {
     "data": {
      "application/vnd.jupyter.widget-view+json": {
       "model_id": "6b969b226fa347d38091653c885771d0",
       "version_major": 2,
       "version_minor": 0
      },
      "text/plain": [
       "interactive(children=(FloatSlider(value=0.211, continuous_update=False, description='bw', max=0.234, min=0.01,…"
      ]
     },
     "metadata": {},
     "output_type": "display_data"
    },
    {
     "data": {
      "text/plain": [
       "<function __main__.renderMeanShift(bw)>"
      ]
     },
     "execution_count": 7,
     "metadata": {},
     "output_type": "execute_result"
    }
   ],
   "source": [
    "errors = []\n",
    "for x in np.arange(0.001,0.234,0.001):\n",
    "    mouse_MeanShift = cl.MeanShift(bandwidth=x).fit(mouse)\n",
    "    y_mouse_MeanShift = mouse_MeanShift.predict(mouse)\n",
    "    errors.append(mtr.silhouette_score(mouse, y_mouse_MeanShift))\n",
    "plt.plot(errors)\n",
    "\n",
    "print(np.amax(errors))\n",
    "errors.index(0.4596886911339167)\n",
    "\n",
    "def renderMeanShift(bw):\n",
    "    mouse_MeanShift = cl.MeanShift(bandwidth=bw).fit(mouse)\n",
    "    y_mouse_MeanShift = mouse_MeanShift.predict(mouse)\n",
    "    mouse_MeanShift_centers = mouse_MeanShift.cluster_centers_\n",
    "\n",
    "    plt.scatter(mouse[:, 0], mouse[:, 1], c=y_mouse_MeanShift, s=50, cmap='plasma')\n",
    "    plt.scatter(mouse_MeanShift_centers[:, 0], mouse_MeanShift_centers[:, 1], c='black', s=200, alpha=0.5);\n",
    "\n",
    "    mouse_MeanShift_scorer = mtr.silhouette_score(mouse, y_mouse_MeanShift)\n",
    "    print(mouse_MeanShift_scorer)\n",
    "    \n",
    "interact(renderMeanShift, bw=widgets.FloatSlider(min=0.01,max=0.234,step=0.001,value=0.211, continuous_update=False))"
   ]
  },
  {
   "cell_type": "code",
   "execution_count": 8,
   "metadata": {},
   "outputs": [
    {
     "data": {
      "application/vnd.jupyter.widget-view+json": {
       "model_id": "2800aef589c249178ba9866c4d1456e8",
       "version_major": 2,
       "version_minor": 0
      },
      "text/plain": [
       "interactive(children=(IntSlider(value=5, continuous_update=False, description='iters', max=30, min=2), Dropdow…"
      ]
     },
     "metadata": {},
     "output_type": "display_data"
    },
    {
     "data": {
      "application/vnd.jupyter.widget-view+json": {
       "model_id": "661c1e7e24904cda93a444f58fb8be54",
       "version_major": 2,
       "version_minor": 0
      },
      "text/plain": [
       "interactive(children=(IntSlider(value=3, continuous_update=False, description='cluster', max=30, min=2), Dropd…"
      ]
     },
     "metadata": {},
     "output_type": "display_data"
    },
    {
     "data": {
      "text/plain": [
       "<function __main__.renderSpectralClustering(cluster, aff, neighbors, gamma)>"
      ]
     },
     "execution_count": 8,
     "metadata": {},
     "output_type": "execute_result"
    }
   ],
   "source": [
    "def errorSpectralClusteringMetric(iters, aff, neighbors, gamma):\n",
    "    errors = []\n",
    "    for x in range(1,iters):\n",
    "        mouse_SpectralClustering = cl.SpectralClustering(n_clusters = x+1, affinity=aff, n_neighbors=neighbors, gamma=gamma).fit_predict(mouse)\n",
    "        errors.append(mtr.silhouette_score(mouse, mouse_SpectralClustering))\n",
    "    plt.plot(np.arange(2,iters+1), errors)\n",
    "    \n",
    "interact(errorSpectralClusteringMetric,\n",
    "         iters=widgets.IntSlider(min=2,max=30,step=1,value=5, continuous_update=False),\n",
    "         aff = ['rbf','nearest_neighbors'],\n",
    "         neighbors =widgets.IntSlider(min=5,max=100,step=1,value=20, continuous_update=False),\n",
    "         gamma= widgets.FloatSlider(min=-100.0,max=1000.0,step=10.5,value=100, continuous_update=False)\n",
    "        )\n",
    "\n",
    "def renderSpectralClustering(cluster, aff, neighbors, gamma):\n",
    "    mouse_SpectralClustering = cl.SpectralClustering(n_clusters = cluster, affinity=aff, n_neighbors=neighbors, gamma=gamma).fit_predict(mouse)\n",
    "\n",
    "    plt.scatter(mouse[:, 0], mouse[:, 1], c=mouse_SpectralClustering, s=50, cmap='plasma')\n",
    "\n",
    "    mouse_SpectralClustering_scorer = mtr.silhouette_score(mouse, mouse_SpectralClustering)\n",
    "    print(mouse_SpectralClustering_scorer)\n",
    "    \n",
    "interact(renderSpectralClustering,\n",
    "         cluster=widgets.IntSlider(min=2,max=30,step=1,value=3, continuous_update=False),\n",
    "         aff = ['rbf','nearest_neighbors'],\n",
    "         neighbors =widgets.IntSlider(min=5,max=100,step=1,value=20, continuous_update=False),\n",
    "         gamma= widgets.FloatSlider(min=-100.0,max=1000.0,step=10.5,value=57.5, continuous_update=False)\n",
    "        )"
   ]
  },
  {
   "cell_type": "code",
   "execution_count": 21,
   "metadata": {},
   "outputs": [
    {
     "data": {
      "application/vnd.jupyter.widget-view+json": {
       "model_id": "681193ee5d86474bbaf98a8e1bff7b89",
       "version_major": 2,
       "version_minor": 0
      },
      "text/plain": [
       "interactive(children=(IntSlider(value=20, continuous_update=False, description='iters', max=20, min=2), Output…"
      ]
     },
     "metadata": {},
     "output_type": "display_data"
    },
    {
     "data": {
      "application/vnd.jupyter.widget-view+json": {
       "model_id": "415e0dced40a43ccbbd40b149ab6c8b8",
       "version_major": 2,
       "version_minor": 0
      },
      "text/plain": [
       "interactive(children=(IntSlider(value=3, continuous_update=False, description='cluster', max=20, min=2), Outpu…"
      ]
     },
     "metadata": {},
     "output_type": "display_data"
    },
    {
     "data": {
      "text/plain": [
       "<function __main__.renderKmeans(cluster)>"
      ]
     },
     "execution_count": 21,
     "metadata": {},
     "output_type": "execute_result"
    }
   ],
   "source": [
    "def errorFuzzyMetric(iters):\n",
    "    errors = []\n",
    "    for x in range(1,iters):\n",
    "        cntr, u, u0, d, jm, p, fpc = fuzzy.cmeans(mouse.T,k,5, error=0.005, maxiter=1000, init=None)\n",
    "        cluster_membership = np.argmax(u, axis=0)\n",
    "        errors.append(mtr.silhouette_score(mouse, cluster_membership))\n",
    "    plt.plot(np.arange(2,iters+1), errors)\n",
    "    \n",
    "interact(errorKMeansMetric, iters=widgets.IntSlider(min=2,max=20,step=1,value=20, continuous_update=False))\n",
    "\n",
    "\n",
    "def renderFuzzy(cluster):\n",
    "    cntr, u, u0, d, jm, p, fpc = fuzzy.cmeans(mouse.T,k,5, error=0.005, maxiter=1000, init=None)\n",
    "    cluster_membership = np.argmax(u, axis=0)\n",
    "\n",
    "    plt.scatter(mouse[:, 0], mouse[:, 1], c=cluster_membership, s=50, cmap='plasma')\n",
    "    plt.scatter(cntr[:, 0], cntr[:, 1], c='black', s=200, alpha=0.5);\n",
    "\n",
    "    mouse_Fuzzy_scorer = mtr.silhouette_score(mouse, cluster_membership)\n",
    "    print(mouse_Fuzzy_scorer)\n",
    "\n",
    "interact(renderKmeans, cluster=widgets.IntSlider(min=2,max=20,step=1,value=3, continuous_update=False))"
   ]
  },
  {
   "cell_type": "code",
   "execution_count": null,
   "metadata": {},
   "outputs": [],
   "source": []
  }
 ],
 "metadata": {
  "kernelspec": {
   "display_name": "Python 3",
   "language": "python",
   "name": "python3"
  }
 },
 "nbformat": 4,
 "nbformat_minor": 2
}
